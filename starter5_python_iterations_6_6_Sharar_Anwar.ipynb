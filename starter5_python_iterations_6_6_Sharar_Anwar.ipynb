{
  "cells": [
    {
      "cell_type": "markdown",
      "metadata": {
        "id": "y8m0Jj-ClxPq"
      },
      "source": [
        "**READ ME FIRST:**\n",
        "\n",
        "Use the code blocks below to answer each quiz question. IMPORTANT: Be sure that the text `# Question 1:`, `# Question 2:`, and so forth remains in each of your code cells. That is how the auto-grader searches for your responses\n",
        "\n",
        "Only print the output required for each question. Otherwise, the auto-grader may misinterpret your results. See the next code cell below as an example (leave that code cell in this file):"
      ]
    },
    {
      "cell_type": "code",
      "execution_count": null,
      "metadata": {
        "id": "XKnmfp-afT9K"
      },
      "outputs": [],
      "source": [
        "# Question 0: (example)\n",
        "\n",
        "# Create two variables to store the numbers 7 and 9\n",
        "# Add those two variables together and print them\n",
        "\n",
        "x = 7\n",
        "y = 9\n",
        "print(x + y)"
      ]
    },
    {
      "cell_type": "markdown",
      "metadata": {
        "id": "UTStIA-7lxPs"
      },
      "source": [
        "In order for the autograder to correctly use any inputs that you are using, they must be created using the EXACT parameters described in the questions which require them. This question is essentially a freebie to ensure that you are using the correct words when creating the input prompt in question 6."
      ]
    },
    {
      "cell_type": "code",
      "execution_count": null,
      "metadata": {
        "id": "nZeolB64lxPs"
      },
      "outputs": [],
      "source": [
        "# Question 1:\n",
        "\n",
        "# This is a freebie reminder to create the prompt correctly in question 6. No other questions will run in the grader until you have done so.\n",
        "# Make no changes to this cell."
      ]
    },
    {
      "cell_type": "markdown",
      "metadata": {
        "id": "6ezy4L_xlxPs"
      },
      "source": [
        "Create a list and store it in a variable called `artists` using the following artists' names: `'Weird Al'`, `'Bruno Mars'`, `'Ricky Martin'`, `'HP Boyz'`, `'James Blunt'`, `'Ne-Yo'`, `'Paul McCartney'`, `'Little River Band'`.\n",
        "\n",
        "Sort it from Z-A. Output the resulting list by calling print and using `artists` as the argument."
      ]
    },
    {
      "cell_type": "code",
      "execution_count": 3,
      "metadata": {
        "id": "25Uz7hlAgLMT",
        "colab": {
          "base_uri": "https://localhost:8080/"
        },
        "outputId": "82053a7d-e54d-4625-bd27-960f5a1da9c6"
      },
      "outputs": [
        {
          "output_type": "stream",
          "name": "stdout",
          "text": [
            "['Weird Al', 'Ricky Martin', 'Paul McCartney', 'Ne-Yo', 'Little River Band', 'James Blunt', 'HP Boyz', 'Bruno Mars']\n"
          ]
        }
      ],
      "source": [
        "# Question 2:\n",
        "\n",
        "artists = ['Weird Al', 'Bruno Mars', 'Ricky Martin', 'HP Boyz', 'James Blunt', 'Ne-Yo', 'Paul McCartney', 'Little River Band']\n",
        "artists.sort(reverse= True)\n",
        "print(artists)"
      ]
    },
    {
      "cell_type": "markdown",
      "metadata": {
        "id": "8M88uXRHlxPt"
      },
      "source": [
        "Add `'Juice Wrld'` in the 3rd position of the list (do not remove any of the the current list items). Output the resulting list."
      ]
    },
    {
      "cell_type": "code",
      "execution_count": 4,
      "metadata": {
        "id": "4hr_ixFcjPiX",
        "colab": {
          "base_uri": "https://localhost:8080/"
        },
        "outputId": "40cfc728-1e34-4bd0-8d30-eaa89051fe6b"
      },
      "outputs": [
        {
          "output_type": "stream",
          "name": "stdout",
          "text": [
            "['Weird Al', 'Ricky Martin', 'Juice Wrld', 'Paul McCartney', 'Ne-Yo', 'Little River Band', 'James Blunt', 'HP Boyz', 'Bruno Mars']\n"
          ]
        }
      ],
      "source": [
        "# Question 3:\n",
        "\n",
        "artists.insert( 2,'Juice Wrld')\n",
        "print(artists)"
      ]
    },
    {
      "cell_type": "markdown",
      "metadata": {
        "id": "5VJ12JoHlxPt"
      },
      "source": [
        "Make a dictionary called `artist_dict` that has the artist name as the key and the number of plays as the value. Accomplish this task by iterating through the artist list (from question 2) to populate the dictionary with the play counts you see below.\n",
        "\n",
        "Hint: Using the plays information below, create a list of plays where the order of plays matches the order of the artists in the artist list. Then, iterate through the artist list and add each artist (key) / play count (value) to a new dictionary one-at-a-time\n",
        "\n",
        "Output the resulting dictionary by looping through it a print out each key and value in the format below (minus the bullet points):\n",
        "\n",
        "* Weird Al = 1234821 plays\n",
        "* Ricky Martin = 600000 plays\n",
        "* Juice Wrld = 38765432 plays\n",
        "* Paul McCartney = 98879838 plays\n",
        "* Ne-Yo = 20000 plays\n",
        "* Little River Band = 100 plays\n",
        "* James Blunt = 974545 plays\n",
        "* HP Boyz = 45000 plays\n",
        "* Bruno Mars = 85279 plays"
      ]
    },
    {
      "cell_type": "code",
      "execution_count": 27,
      "metadata": {
        "id": "kbCQCpxzjj-t",
        "colab": {
          "base_uri": "https://localhost:8080/"
        },
        "outputId": "62bf3c86-f3f3-483f-84a6-9e8f9001773c"
      },
      "outputs": [
        {
          "output_type": "stream",
          "name": "stdout",
          "text": [
            "Weird Al = 1234821 plays\n",
            "Ricky Martin = 600000 plays\n",
            "Juice Wrld = 38765432 plays\n",
            "Paul McCartney = 98879838 plays\n",
            "Ne-Yo = 20000 plays\n",
            "Little River Band = 100 plays\n",
            "James Blunt = 974545 plays\n",
            "HP Boyz = 45000 plays\n",
            "Bruno Mars = 85279 plays\n"
          ]
        }
      ],
      "source": [
        "# Question 4:\n",
        "play_count = [1234821, 600000, 38765432, 98879838, 20000, 100, 974545, 45000, 85279]\n",
        "\n",
        "artist_dict = {artists[i]: play_count[i] for i in range(len(artists))}\n",
        "# well why does it still run if ^ I change play_count to just play?? (ask professor in class)\n",
        "for artist, plays in artist_dict.items():\n",
        "    print(f\"{artist} = {plays} plays\")"
      ]
    },
    {
      "cell_type": "markdown",
      "metadata": {
        "id": "JGbziddGlxPu"
      },
      "source": [
        "Due to technical errors this month all artists lost count of 100 plays.\n",
        "Loop through the artist dictionary (from question 3) and add 100 to the count of plays for all artists.\n",
        "\n",
        "Print the dictionary in the same format as the previous question but with the updated play counts."
      ]
    },
    {
      "cell_type": "code",
      "execution_count": 32,
      "metadata": {
        "id": "0jCj9N4_m6ov",
        "colab": {
          "base_uri": "https://localhost:8080/"
        },
        "outputId": "a5c95860-5b57-4bf8-879f-c02c803f76fe"
      },
      "outputs": [
        {
          "output_type": "stream",
          "name": "stdout",
          "text": [
            "Weird Al = 1234921 plays\n",
            "Ricky Martin = 600100 plays\n",
            "Juice Wrld = 38765532 plays\n",
            "Paul McCartney = 98879938 plays\n",
            "Ne-Yo = 20100 plays\n",
            "Little River Band = 200 plays\n",
            "James Blunt = 974645 plays\n",
            "HP Boyz = 45100 plays\n",
            "Bruno Mars = 85379 plays\n"
          ]
        }
      ],
      "source": [
        "# Question 5:\n",
        "for artist in artist_dict:\n",
        "  artist_dict[artist] += 100\n",
        "\n",
        "for artist, plays in artist_dict.items():\n",
        "    print(f\"{artist} = {plays} plays\")"
      ]
    },
    {
      "cell_type": "markdown",
      "metadata": {
        "id": "bRG5flPulxPu"
      },
      "source": [
        "Delete all artists from the `artist_dict` that do not have a user-specified number of plays. In other words, ask the user for the minimum play count and then remove all dictionary entries that do not meet the minimum.\n",
        "\n",
        "* RULE: You must use a loop to find artists below the minimum play count in case the dictionary is ever modified.\n",
        "* RULE: Your input function prompt must contain the word `minimum`.\n",
        "* RULE: You must use `pop` to remove the values.\n",
        "\n",
        "HINT: You will need two separate loops: one loop to identify those less than the minimum and another to remove each of those identified from the dictionary. This is because you can't modify a dictionary while you are iterating through it.\n",
        "\n",
        "Print the resulting dictionary after running the code using 50000 as the minimum threshold."
      ]
    },
    {
      "cell_type": "code",
      "execution_count": null,
      "metadata": {
        "id": "-l2O0v6SneOm"
      },
      "outputs": [],
      "source": [
        "# Question 6:\n",
        "\n",
        "min_plays = int(input(\"Enter the minimum play count: \"))\n",
        "to_remove = [artist for artist, plays in artist_dict.items() if plays < min_plays]\n",
        "\n",
        "for artist in to_remove:\n",
        "    artist_dict.pop(artist)\n",
        "print(artist_dict)"
      ]
    },
    {
      "cell_type": "markdown",
      "metadata": {
        "id": "1zX6hje9lxPu"
      },
      "source": [
        "Isaac and Grays are two listener profiles. Below is a dictionary for Isaac and a dictionary for Grays. 'fav_Artist' is the key and a list of preferred artists are the values. Also below is the all_artists list. This is a list of all available artists. Isaac likes 'Little River Band', 'Jackson 5', 'HP Boyz', and 'Ne-Yo'. Grays likes all the other artists listed in the all_artists list (he doesn't like the artists in Isaac's list). Use a loop to update Graysons fav_Artists (update the values to the key 'fav_Artists')\n",
        "\n",
        "HINT: You may want to use 'not in' to find Grays's preferred artists.\n",
        "\n",
        "Output Gray's and Isacc's list of perferred bands by printing the entire dictionary for each of them."
      ]
    },
    {
      "cell_type": "code",
      "execution_count": null,
      "metadata": {
        "id": "Bukrjr9-rpI9"
      },
      "outputs": [],
      "source": [
        "# Question 7:\n",
        "\n",
        "isaac = {'fav_Artists': ['Little River Band', 'Juice Wrld', 'HP Boyz', 'Ne-Yo']}\n",
        "grays = {'fav_Artists': []}\n",
        "all_artists = ['Weird Al', 'Bruno Mars', 'Juice Wrld', 'Ricky Martin', 'HP Boyz', 'James Blunt', 'Ne-Yo', 'Paul McCartney', 'Little River Band']\n",
        "\n",
        "grays['fav_Artists'] = [artist for artist in all_artists if artist not in isaac['fav_Artists']]\n",
        "print(isaac)\n",
        "print(grays)\n"
      ]
    },
    {
      "cell_type": "markdown",
      "metadata": {
        "id": "T_4ie6FClxPv"
      },
      "source": [
        "For both Issac and Grays, calculate the total artist plays (the sum of the plays of all their favorite artists).\n",
        "For example, calculate the sum of the number of plays for Little River Band, Juice Wrld, HP Boyz and Ne-Yo to find the total plays for Isaac.\n",
        "\n",
        "Make a new 'all_plays' key in the Isaac dictionary and the Grays dictionary.\n",
        "Insert the total plays of all their favorite artists as the value of the 'all_plays' key.\n",
        "\n",
        "NOTE: Before you run this block of code, run question 4 again to repopulate the artist dictionary.\n",
        "If you ran question 4, but than ran question 5 and 6, you will get an error because questions 5 and 6 make changes to the dictionary.\n",
        "Just push the 'play' button next to question 4 to run it again.\n",
        "\n",
        "Output the resulting dictionaries.\n",
        "\n",
        "According to the counts produced after creating the code for the prior question, who likes more popular music? (i.e. which profile had the most total plays?) You don't need to express this in the code, just use the answer to double check your logic."
      ]
    },
    {
      "cell_type": "code",
      "execution_count": null,
      "metadata": {
        "id": "Bk8CWHb3Sc-i"
      },
      "outputs": [],
      "source": [
        "# Question 8:\n",
        "\n",
        "isaac['all_plays'] = sum(artist_dict[artist] for artist in isaac['fav_Artists'])\n",
        "grays['all_plays'] = sum(artist_dict[artist] for artist in grays['fav_Artists'])\n",
        "\n",
        "print(isaac)\n",
        "print(grays)\n",
        "\n",
        "if isaac['all_plays'] > grays['all_plays']:\n",
        "    print(\"Isaac likes more popular music.\")\n",
        "else:\n",
        "    print(\"Grays likes more popular music.\")"
      ]
    }
  ],
  "metadata": {
    "colab": {
      "provenance": []
    },
    "kernelspec": {
      "display_name": "Python 3.9.1 64-bit",
      "language": "python",
      "name": "python3"
    },
    "language_info": {
      "codemirror_mode": {
        "name": "ipython",
        "version": 3
      },
      "file_extension": ".py",
      "mimetype": "text/x-python",
      "name": "python",
      "nbconvert_exporter": "python",
      "pygments_lexer": "ipython3",
      "version": "3.11.4"
    },
    "vscode": {
      "interpreter": {
        "hash": "11938c6bc6919ae2720b4d5011047913343b08a43b18698fd82dedb0d4417594"
      }
    }
  },
  "nbformat": 4,
  "nbformat_minor": 0
}
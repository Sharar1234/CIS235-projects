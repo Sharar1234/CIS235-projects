{
  "cells": [
    {
      "cell_type": "markdown",
      "metadata": {
        "id": "O_tW8YIeVp9g"
      },
      "source": [
        "**READ ME FIRST:**\n",
        "\n",
        "Use the code blocks below to answer each quiz question. Use the code blocks below to answer each quiz question. IMPORTANT: Be sure that the text \"# Question 1:\", \"# Question 2:\", and so forth remains in each of your code cells. That is how the auto-grader searches for your responses\n",
        "\n",
        "Only print the output required for each question. Otherwise, the auto-grader may misinterpret your results. See the next code cell below as an an example (leave that code cell in this file):"
      ]
    },
    {
      "cell_type": "code",
      "execution_count": null,
      "metadata": {
        "id": "Sq2YojooVp9i",
        "outputId": "2cd1db25-0a4b-4cdd-8d41-32c1c4213228"
      },
      "outputs": [
        {
          "name": "stdout",
          "output_type": "stream",
          "text": [
            "16\n"
          ]
        }
      ],
      "source": [
        "# Question 0: (example)\n",
        "\n",
        "# Create two variables to store the numbers 7 and 9\n",
        "# Add those two variables together and print them\n",
        "\n",
        "x = 7\n",
        "y = 9\n",
        "print(x + y)"
      ]
    },
    {
      "cell_type": "markdown",
      "metadata": {
        "id": "Nsp35EOSVp9j"
      },
      "source": [
        "**Background**\n",
        "\n",
        "You are a Human Resources manager in charge of calculating employee pay.\n",
        "\n",
        "**Tasks**\n",
        "\n",
        "Create a basic application that calculates the the gross and net pay for three employees working at your company. You can count on there only being three and always three employees. You should collect (as inputs) each employee's name, hours worked, and hourly rate (3 variables x 3 employees = 9 variables). Also collect the tax rate which will be the same for all employees. Finally, print out a nicely formatted table that looks something like the one provided in the MyEducator assessment description.\n",
        "\n",
        "If the number of hours worked is more than 40, then the pay rate should be 1.5 times the amount entered. If the number of hours is more than 50, then the pay rate should be 1.6 times the amount entered. To keep it simple, this is not a marginal rate; ie, if they work over 40 hours a week, all 40 hours will be paid at the same rate. Use an `elif` condition for at least one employee and a nested `if` for at least one employee to demonstrate that both techniques can achieve the same outcome. You do NOT need to use both for any single employee, just be sure to implement each technique at least once in your code.\n",
        "\n",
        "**Requirements**\n",
        "\n",
        "* All three values for employee1 are correct\n",
        "* All three values for employee2 are correct\n",
        "* All three values for employee3 are correct\n",
        "* Use a nested `if` statement at least once in your code\n",
        "* Use an `elif` statement at least once in your code\n",
        "* Use bold (\\033[1m), underline (\\033[4m), and the color red (\\033[91m) somewhere in your printed output\n",
        "* You do not need to write code that adds these values into a table data structure. Simply print out the headers and then print out the values one line at a time as they are added. Automatically print out the totals line once three rows of data have been entered."
      ]
    },
    {
      "cell_type": "code",
      "execution_count": null,
      "metadata": {
        "id": "2jl6Wx2k-ILt"
      },
      "outputs": [],
      "source": [
        "# Write all code needed in this cell:\n",
        "\n",
        "employee1 = input(\"What is the first employees name?\")\n",
        "employee2 = input(\"What is the second employees name?\")\n",
        "employee3 = input(\"What is the third employees name?\")\n",
        "w1 = int(input(\"How many hours did \"+ employee1 + \" work?\"))\n",
        "w2 = int(input(\"How many hours did \"+ employee2 + \" work?\"))\n",
        "w3 = int(input(\"How many hours did \"+ employee3 + \" work?\"))\n",
        "hourly_rate_1 = float(input(\"How much does \"+ employee1 + \" make an hour?\"))\n",
        "hourly_rate_2 = float(input(\"How much does \"+ employee2 + \" make an hour?\"))\n",
        "hourly_rate_3 = float(input(\"How much does \"+ employee3 + \" make an hour?\"))\n",
        "\n",
        "\n",
        "###################################\n",
        "\n",
        "tax_rate = .2\n",
        "\n",
        "employee1_gross_pay = 0\n",
        "employee2_gross_pay = 0\n",
        "employee3_gross_pay = 0\n",
        "\n",
        "employee1_taxes_owed = 0\n",
        "employee2_taxes_owed = 0\n",
        "employee3_taxes_owed = 0\n",
        "\n",
        "employee1_net_pay = 0\n",
        "employee2_net_pay = 0\n",
        "employee3_net_pay = 0\n",
        "\n",
        "# Use these variables below by changing their values.\n",
        "# Do not change anything above this line!!!\n",
        "\n",
        "if w1 > 50:\n",
        "    employee1_gross_pay = w1 * hourly_rate_1 * 1.6\n",
        "elif w1 > 40:\n",
        "    employee1_gross_pay = w1 * hourly_rate_1 * 1.5\n",
        "else:\n",
        "    employee1_gross_pay = w1 * hourly_rate_1\n",
        "if w2 > 50:\n",
        "    employee2_gross_pay = w2 * hourly_rate_2 * 1.6\n",
        "elif w2 > 40:\n",
        "    employee2_gross_pay = w2 * hourly_rate_2 * 1.5\n",
        "else:\n",
        "    employee2_gross_pay = w2 * hourly_rate_2\n",
        "if w3 > 50:\n",
        "    employee3_gross_pay = w3 * hourly_rate_3 * 1.6\n",
        "elif w3 > 40:\n",
        "    employee3_gross_pay = w3 * hourly_rate_3 * 1.5\n",
        "else:\n",
        "    employee3_gross_pay = w3 * hourly_rate_3\n",
        "employee1_taxes_owed = employee1_gross_pay * tax_rate\n",
        "employee2_taxes_owed = employee2_gross_pay * tax_rate\n",
        "employee3_taxes_owed = employee3_gross_pay * tax_rate\n",
        "employee1_net_pay = employee1_gross_pay - employee1_taxes_owed\n",
        "employee2_net_pay = employee2_gross_pay - employee2_taxes_owed\n",
        "employee3_net_pay = employee3_gross_pay - employee3_taxes_owed\n",
        "\n",
        "\n",
        "print(\"\\n\\033[1m\\033[4mEmployee Payroll Summary\\033[0m\")\n",
        "print(\"\\033[1m---------------------------------------------------------\\033[0m\")\n",
        "print(f\"\\033[1mName\\t\\t Hours Worked\\t Gross Pay\\t Taxes Owed\\t Net Pay\\033[0m\")\n",
        "print(\"---------------------------------------------------------\")\n",
        "print(f\"{employee1:<10}\\t {w1:<12} ${employee1_gross_pay:<10.2f} ${employee1_taxes_owed:<10.2f} ${employee1_net_pay:<10.2f}\")\n",
        "print(f\"{employee2:<10}\\t {w2:<12} ${employee2_gross_pay:<10.2f} ${employee2_taxes_owed:<10.2f} ${employee2_net_pay:<10.2f}\")\n",
        "print(f\"{employee3:<10}\\t {w3:<12} ${employee3_gross_pay:<10.2f} ${employee3_taxes_owed:<10.2f} ${employee3_net_pay:<10.2f}\")\n",
        "# Calculate & Print Totals\n",
        "total_gross = employee1_gross_pay + employee2_gross_pay + employee3_gross_pay\n",
        "total_taxes = employee1_taxes_owed + employee2_taxes_owed + employee3_taxes_owed\n",
        "total_net = employee1_net_pay + employee2_net_pay + employee3_net_pay\n",
        "print(\"\\033[1m---------------------------------------------------------\\033[0m\")\n",
        "print(f\"\\033[91mTOTAL\\t\\t - \\t\\t ${total_gross:<10.2f} ${total_taxes:<10.2f} ${total_net:<10.2f}\\033[0m\")\n"
      ]
    }
  ],
  "metadata": {
    "celltoolbar": "Raw Cell Format",
    "kernelspec": {
      "display_name": "Python 3.9.1 64-bit",
      "language": "python",
      "name": "python3"
    },
    "language_info": {
      "codemirror_mode": {
        "name": "ipython",
        "version": 3
      },
      "file_extension": ".py",
      "mimetype": "text/x-python",
      "name": "python",
      "nbconvert_exporter": "python",
      "pygments_lexer": "ipython3",
      "version": "3.9.1"
    },
    "vscode": {
      "interpreter": {
        "hash": "11938c6bc6919ae2720b4d5011047913343b08a43b18698fd82dedb0d4417594"
      }
    },
    "colab": {
      "provenance": []
    }
  },
  "nbformat": 4,
  "nbformat_minor": 0
}